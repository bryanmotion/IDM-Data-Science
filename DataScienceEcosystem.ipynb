{
 "cells": [
  {
   "cell_type": "markdown",
   "id": "6e323478",
   "metadata": {},
   "source": [
    "# Data Science Tools and Ecosystem"
   ]
  },
  {
   "cell_type": "markdown",
   "id": "ab6baf1a",
   "metadata": {},
   "source": [
    "In this notebook, Data Science Tools and Ecosystem are summarized."
   ]
  },
  {
   "cell_type": "markdown",
   "id": "9ebc38ec",
   "metadata": {},
   "source": [
    "**Objectives:**\n",
    "- Understanding the role of machine learning and data science in modern industries.\n",
    "- Learning to apply statistical models like Linear, Logistic, and Decision Trees to real-life situations.\n",
    "- Gaining proficiency in solving regression problems and using advanced techniques "
   ]
  },
  {
   "cell_type": "markdown",
   "id": "4cf2c49e",
   "metadata": {},
   "source": [
    "Some of the popular languages that Data Scientists use are:"
   ]
  },
  {
   "cell_type": "markdown",
   "id": "1bfe57aa",
   "metadata": {},
   "source": [
    "1. Python\n",
    "2. R\n",
    "3. SQL"
   ]
  },
  {
   "cell_type": "markdown",
   "id": "016739bc",
   "metadata": {},
   "source": [
    "Some of the commonly used libraries used by Data Scientists include:"
   ]
  },
  {
   "cell_type": "markdown",
   "id": "5d0353ac",
   "metadata": {},
   "source": [
    "1. NumPy\n",
    "2. Pandas\n",
    "3. Scikit-learn"
   ]
  },
  {
   "cell_type": "code",
   "execution_count": 2,
   "id": "c8e28da9",
   "metadata": {},
   "outputs": [
    {
     "name": "stdout",
     "output_type": "stream",
     "text": [
      "\n",
      "| Data Science Tools |\n",
      "|--------------------|\n",
      "| JupyterLab         |\n",
      "| RStudio            |\n",
      "| Apache Zeppelin    |\n",
      "\n"
     ]
    }
   ],
   "source": [
    "table = \"\"\"\n",
    "| Data Science Tools |\n",
    "|--------------------|\n",
    "| JupyterLab         |\n",
    "| RStudio            |\n",
    "| Apache Zeppelin    |\n",
    "\"\"\"\n",
    "print(table)\n"
   ]
  },
  {
   "cell_type": "markdown",
   "id": "bdb8801b",
   "metadata": {},
   "source": [
    "### Below are a few examples of evaluating arithmetic expressions in Python"
   ]
  },
  {
   "cell_type": "code",
   "execution_count": 3,
   "id": "602b6088",
   "metadata": {},
   "outputs": [
    {
     "name": "stdout",
     "output_type": "stream",
     "text": [
      "17\n"
     ]
    }
   ],
   "source": [
    "# This is a simple arithmetic expression to multiply then add integers.\n",
    "result = (3*4) + 5\n",
    "print(result)  \n",
    "# This will print the expected output of 17.\n"
   ]
  },
  {
   "cell_type": "code",
   "execution_count": 4,
   "id": "f9b6b2d2",
   "metadata": {},
   "outputs": [
    {
     "name": "stdout",
     "output_type": "stream",
     "text": [
      "3.3333333333333335\n"
     ]
    }
   ],
   "source": [
    "# This will convert 200 minutes to hours by dividing by 60.\n",
    "hours = 200 / 60\n",
    "print(hours)  \n",
    "# This will print the result of the conversion.\n"
   ]
  },
  {
   "cell_type": "markdown",
   "id": "0f3803b1",
   "metadata": {},
   "source": [
    "## Author"
   ]
  },
  {
   "cell_type": "markdown",
   "id": "9d964b56",
   "metadata": {},
   "source": [
    "Bryan Thebeemang"
   ]
  },
  {
   "cell_type": "code",
   "execution_count": null,
   "id": "adc0fb7f",
   "metadata": {},
   "outputs": [],
   "source": []
  }
 ],
 "metadata": {
  "kernelspec": {
   "display_name": "Python 3 (ipykernel)",
   "language": "python",
   "name": "python3"
  },
  "language_info": {
   "codemirror_mode": {
    "name": "ipython",
    "version": 3
   },
   "file_extension": ".py",
   "mimetype": "text/x-python",
   "name": "python",
   "nbconvert_exporter": "python",
   "pygments_lexer": "ipython3",
   "version": "3.11.5"
  }
 },
 "nbformat": 4,
 "nbformat_minor": 5
}
